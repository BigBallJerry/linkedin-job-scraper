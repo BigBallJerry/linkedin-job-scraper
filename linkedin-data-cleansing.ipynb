{
 "cells": [
  {
   "cell_type": "markdown",
   "metadata": {},
   "source": [
    "#### Analyze scraped linkedin job data\n",
    "##### Preparation"
   ]
  },
  {
   "cell_type": "code",
   "execution_count": 341,
   "metadata": {},
   "outputs": [],
   "source": [
    "# libraries\n",
    "import pandas as pd \n",
    "import numpy as np\n",
    "import seaborn as sn\n",
    "import matplotlib.pyplot as plt\n",
    "plt.style.use('bmh')"
   ]
  },
  {
   "cell_type": "code",
   "execution_count": 342,
   "metadata": {},
   "outputs": [
    {
     "data": {
      "text/html": [
       "<div>\n",
       "<style scoped>\n",
       "    .dataframe tbody tr th:only-of-type {\n",
       "        vertical-align: middle;\n",
       "    }\n",
       "\n",
       "    .dataframe tbody tr th {\n",
       "        vertical-align: top;\n",
       "    }\n",
       "\n",
       "    .dataframe thead th {\n",
       "        text-align: right;\n",
       "    }\n",
       "</style>\n",
       "<table border=\"1\" class=\"dataframe\">\n",
       "  <thead>\n",
       "    <tr style=\"text-align: right;\">\n",
       "      <th></th>\n",
       "      <th>job_id</th>\n",
       "      <th>job_title</th>\n",
       "      <th>company_name</th>\n",
       "      <th>company_link</th>\n",
       "      <th>job_location</th>\n",
       "      <th>publish_date</th>\n",
       "      <th>applicant_count</th>\n",
       "      <th>job_type</th>\n",
       "      <th>job_level</th>\n",
       "      <th>company_size</th>\n",
       "      <th>company_industry</th>\n",
       "      <th>connection_count</th>\n",
       "      <th>connection_type</th>\n",
       "      <th>job_description</th>\n",
       "    </tr>\n",
       "  </thead>\n",
       "  <tbody>\n",
       "    <tr>\n",
       "      <th>0</th>\n",
       "      <td>3225302096</td>\n",
       "      <td>Data Analyst (Tableau, Snowflake &amp; Python)</td>\n",
       "      <td>Nigel Frank International</td>\n",
       "      <td>https://www.linkedin.com/company/nigel-frank-i...</td>\n",
       "      <td>On-site</td>\n",
       "      <td>1 day ago</td>\n",
       "      <td>NaN</td>\n",
       "      <td>Full-time</td>\n",
       "      <td>Entry level</td>\n",
       "      <td>1,001-5,000</td>\n",
       "      <td>Staffing and Recruiting</td>\n",
       "      <td>1.0</td>\n",
       "      <td>school alumni</td>\n",
       "      <td>About the job Data Analyst for Sweden's leadin...</td>\n",
       "    </tr>\n",
       "    <tr>\n",
       "      <th>1</th>\n",
       "      <td>3223774058</td>\n",
       "      <td>Product Data Analyst</td>\n",
       "      <td>Challengermode &gt;&gt; Meet us @GamesCom 2022</td>\n",
       "      <td>https://www.linkedin.com/company/challengermod...</td>\n",
       "      <td>Hybrid</td>\n",
       "      <td>2 days ago</td>\n",
       "      <td>NaN</td>\n",
       "      <td>Full-time</td>\n",
       "      <td>Mid-Senior level</td>\n",
       "      <td>11-50</td>\n",
       "      <td>Computer Games</td>\n",
       "      <td>NaN</td>\n",
       "      <td>NaN</td>\n",
       "      <td>About the job Does it really bother you when p...</td>\n",
       "    </tr>\n",
       "    <tr>\n",
       "      <th>2</th>\n",
       "      <td>3223917392</td>\n",
       "      <td>Analytics Engineer - Forecasting &amp; Data</td>\n",
       "      <td>Spotify</td>\n",
       "      <td>https://www.linkedin.com/company/spotify/life/</td>\n",
       "      <td>NaN</td>\n",
       "      <td>2 days ago</td>\n",
       "      <td>NaN</td>\n",
       "      <td>Full-time</td>\n",
       "      <td>Entry level</td>\n",
       "      <td>5,001-10,000</td>\n",
       "      <td>Musicians</td>\n",
       "      <td>3.0</td>\n",
       "      <td>school alumni</td>\n",
       "      <td>About the job We are looking for an engineer w...</td>\n",
       "    </tr>\n",
       "    <tr>\n",
       "      <th>3</th>\n",
       "      <td>3181830993</td>\n",
       "      <td>Data Analyst</td>\n",
       "      <td>Sinch</td>\n",
       "      <td>https://www.linkedin.com/company/sinch/life/</td>\n",
       "      <td>NaN</td>\n",
       "      <td>1 week ago</td>\n",
       "      <td>NaN</td>\n",
       "      <td>Full-time</td>\n",
       "      <td>NaN</td>\n",
       "      <td>NaN</td>\n",
       "      <td>NaN</td>\n",
       "      <td>NaN</td>\n",
       "      <td>NaN</td>\n",
       "      <td>About the job We are Sinch. With presence in m...</td>\n",
       "    </tr>\n",
       "    <tr>\n",
       "      <th>4</th>\n",
       "      <td>3190008503</td>\n",
       "      <td>Senior Data Analyst</td>\n",
       "      <td>TUI</td>\n",
       "      <td>https://www.linkedin.com/company/tuigroup/life/</td>\n",
       "      <td>Hybrid</td>\n",
       "      <td>2 days ago</td>\n",
       "      <td>NaN</td>\n",
       "      <td>Full-time</td>\n",
       "      <td>Associate</td>\n",
       "      <td>10,001+</td>\n",
       "      <td>Travel Arrangements</td>\n",
       "      <td>6.0</td>\n",
       "      <td>school alumni</td>\n",
       "      <td>About the job TUI is well on its way to transf...</td>\n",
       "    </tr>\n",
       "  </tbody>\n",
       "</table>\n",
       "</div>"
      ],
      "text/plain": [
       "       job_id                                   job_title  \\\n",
       "0  3225302096  Data Analyst (Tableau, Snowflake & Python)   \n",
       "1  3223774058                        Product Data Analyst   \n",
       "2  3223917392     Analytics Engineer - Forecasting & Data   \n",
       "3  3181830993                                Data Analyst   \n",
       "4  3190008503                         Senior Data Analyst   \n",
       "\n",
       "                               company_name  \\\n",
       "0                 Nigel Frank International   \n",
       "1  Challengermode >> Meet us @GamesCom 2022   \n",
       "2                                   Spotify   \n",
       "3                                     Sinch   \n",
       "4                                       TUI   \n",
       "\n",
       "                                        company_link job_location  \\\n",
       "0  https://www.linkedin.com/company/nigel-frank-i...      On-site   \n",
       "1  https://www.linkedin.com/company/challengermod...       Hybrid   \n",
       "2     https://www.linkedin.com/company/spotify/life/          NaN   \n",
       "3       https://www.linkedin.com/company/sinch/life/          NaN   \n",
       "4    https://www.linkedin.com/company/tuigroup/life/       Hybrid   \n",
       "\n",
       "  publish_date  applicant_count   job_type         job_level  company_size  \\\n",
       "0    1 day ago              NaN  Full-time       Entry level   1,001-5,000   \n",
       "1   2 days ago              NaN  Full-time  Mid-Senior level         11-50   \n",
       "2   2 days ago              NaN  Full-time       Entry level  5,001-10,000   \n",
       "3   1 week ago              NaN  Full-time               NaN           NaN   \n",
       "4   2 days ago              NaN  Full-time         Associate       10,001+   \n",
       "\n",
       "          company_industry  connection_count connection_type  \\\n",
       "0  Staffing and Recruiting               1.0   school alumni   \n",
       "1           Computer Games               NaN             NaN   \n",
       "2                Musicians               3.0   school alumni   \n",
       "3                      NaN               NaN             NaN   \n",
       "4      Travel Arrangements               6.0   school alumni   \n",
       "\n",
       "                                     job_description  \n",
       "0  About the job Data Analyst for Sweden's leadin...  \n",
       "1  About the job Does it really bother you when p...  \n",
       "2  About the job We are looking for an engineer w...  \n",
       "3  About the job We are Sinch. With presence in m...  \n",
       "4  About the job TUI is well on its way to transf...  "
      ]
     },
     "execution_count": 342,
     "metadata": {},
     "output_type": "execute_result"
    }
   ],
   "source": [
    "# Load the data\n",
    "job_data_file_name = \"job-data.csv\"\n",
    "df = pd.read_csv(job_data_file_name)\n",
    "\n",
    "# show head 5 of data\n",
    "df.head(5)"
   ]
  },
  {
   "cell_type": "code",
   "execution_count": 343,
   "metadata": {},
   "outputs": [
    {
     "data": {
      "text/html": [
       "<div>\n",
       "<style scoped>\n",
       "    .dataframe tbody tr th:only-of-type {\n",
       "        vertical-align: middle;\n",
       "    }\n",
       "\n",
       "    .dataframe tbody tr th {\n",
       "        vertical-align: top;\n",
       "    }\n",
       "\n",
       "    .dataframe thead th {\n",
       "        text-align: right;\n",
       "    }\n",
       "</style>\n",
       "<table border=\"1\" class=\"dataframe\">\n",
       "  <thead>\n",
       "    <tr style=\"text-align: right;\">\n",
       "      <th></th>\n",
       "      <th>job_id</th>\n",
       "      <th>job_title</th>\n",
       "      <th>company_name</th>\n",
       "      <th>company_link</th>\n",
       "      <th>job_location</th>\n",
       "      <th>publish_date</th>\n",
       "      <th>applicant_count</th>\n",
       "      <th>job_type</th>\n",
       "      <th>job_level</th>\n",
       "      <th>company_size</th>\n",
       "      <th>company_industry</th>\n",
       "      <th>connection_count</th>\n",
       "      <th>connection_type</th>\n",
       "      <th>job_description</th>\n",
       "    </tr>\n",
       "  </thead>\n",
       "  <tbody>\n",
       "    <tr>\n",
       "      <th>1593</th>\n",
       "      <td>3119816534</td>\n",
       "      <td>Mid Level Incident Readiness Consultant</td>\n",
       "      <td>WithSecure</td>\n",
       "      <td>https://www.linkedin.com/company/withsecure/life/</td>\n",
       "      <td>NaN</td>\n",
       "      <td>2 days ago</td>\n",
       "      <td>8.0</td>\n",
       "      <td>Full-time</td>\n",
       "      <td>Mid-Senior level</td>\n",
       "      <td>1,001-5,000</td>\n",
       "      <td>Computer and Network Security</td>\n",
       "      <td>1.0</td>\n",
       "      <td>school alumni</td>\n",
       "      <td>About the job WithSecure™ protects businesses ...</td>\n",
       "    </tr>\n",
       "    <tr>\n",
       "      <th>1594</th>\n",
       "      <td>3216569059</td>\n",
       "      <td>Data Analyst</td>\n",
       "      <td>Gelato</td>\n",
       "      <td>https://www.linkedin.com/company/gelato/life/</td>\n",
       "      <td>Hybrid</td>\n",
       "      <td>6 days ago</td>\n",
       "      <td>42.0</td>\n",
       "      <td>Full-time</td>\n",
       "      <td>Mid-Senior level</td>\n",
       "      <td>201-500</td>\n",
       "      <td>Internet Marketplace Platforms</td>\n",
       "      <td>NaN</td>\n",
       "      <td>NaN</td>\n",
       "      <td>About the job About Gelato Gelato has built th...</td>\n",
       "    </tr>\n",
       "    <tr>\n",
       "      <th>1595</th>\n",
       "      <td>3227788996</td>\n",
       "      <td>Business Analyst</td>\n",
       "      <td>Etraveli Group</td>\n",
       "      <td>https://www.linkedin.com/company/etraveli-grou...</td>\n",
       "      <td>Hybrid</td>\n",
       "      <td>1 day ago</td>\n",
       "      <td>63.0</td>\n",
       "      <td>Full-time</td>\n",
       "      <td>Entry level</td>\n",
       "      <td>1,001-5,000</td>\n",
       "      <td>Technology, Information and Internet</td>\n",
       "      <td>NaN</td>\n",
       "      <td>NaN</td>\n",
       "      <td>About the job Description Etraveli Group is a ...</td>\n",
       "    </tr>\n",
       "    <tr>\n",
       "      <th>1596</th>\n",
       "      <td>3103862817</td>\n",
       "      <td>Consultant</td>\n",
       "      <td>Prokura</td>\n",
       "      <td>https://www.linkedin.com/company/prokura/life/</td>\n",
       "      <td>On-site</td>\n",
       "      <td>2 months ago</td>\n",
       "      <td>88.0</td>\n",
       "      <td>Full-time</td>\n",
       "      <td>NaN</td>\n",
       "      <td>NaN</td>\n",
       "      <td>NaN</td>\n",
       "      <td>NaN</td>\n",
       "      <td>NaN</td>\n",
       "      <td>About the job Are you Prokura’s new Consultant...</td>\n",
       "    </tr>\n",
       "    <tr>\n",
       "      <th>1597</th>\n",
       "      <td>3000442992</td>\n",
       "      <td>Anaplan Consultant</td>\n",
       "      <td>Spaulding Ridge</td>\n",
       "      <td>https://www.linkedin.com/company/spaulding-rid...</td>\n",
       "      <td>NaN</td>\n",
       "      <td>2 days ago</td>\n",
       "      <td>30.0</td>\n",
       "      <td>Full-time</td>\n",
       "      <td>Associate</td>\n",
       "      <td>501-1,000</td>\n",
       "      <td>Business Consulting and Services</td>\n",
       "      <td>NaN</td>\n",
       "      <td>NaN</td>\n",
       "      <td>About the job Spaulding Ridge is a best-in-clo...</td>\n",
       "    </tr>\n",
       "  </tbody>\n",
       "</table>\n",
       "</div>"
      ],
      "text/plain": [
       "          job_id                                job_title     company_name  \\\n",
       "1593  3119816534  Mid Level Incident Readiness Consultant       WithSecure   \n",
       "1594  3216569059                             Data Analyst           Gelato   \n",
       "1595  3227788996                         Business Analyst   Etraveli Group   \n",
       "1596  3103862817                               Consultant          Prokura   \n",
       "1597  3000442992                       Anaplan Consultant  Spaulding Ridge   \n",
       "\n",
       "                                           company_link job_location  \\\n",
       "1593  https://www.linkedin.com/company/withsecure/life/          NaN   \n",
       "1594      https://www.linkedin.com/company/gelato/life/       Hybrid   \n",
       "1595  https://www.linkedin.com/company/etraveli-grou...       Hybrid   \n",
       "1596     https://www.linkedin.com/company/prokura/life/      On-site   \n",
       "1597  https://www.linkedin.com/company/spaulding-rid...          NaN   \n",
       "\n",
       "      publish_date  applicant_count   job_type         job_level company_size  \\\n",
       "1593    2 days ago              8.0  Full-time  Mid-Senior level  1,001-5,000   \n",
       "1594    6 days ago             42.0  Full-time  Mid-Senior level      201-500   \n",
       "1595     1 day ago             63.0  Full-time       Entry level  1,001-5,000   \n",
       "1596  2 months ago             88.0  Full-time               NaN          NaN   \n",
       "1597    2 days ago             30.0  Full-time         Associate    501-1,000   \n",
       "\n",
       "                          company_industry  connection_count connection_type  \\\n",
       "1593         Computer and Network Security               1.0   school alumni   \n",
       "1594        Internet Marketplace Platforms               NaN             NaN   \n",
       "1595  Technology, Information and Internet               NaN             NaN   \n",
       "1596                                   NaN               NaN             NaN   \n",
       "1597      Business Consulting and Services               NaN             NaN   \n",
       "\n",
       "                                        job_description  \n",
       "1593  About the job WithSecure™ protects businesses ...  \n",
       "1594  About the job About Gelato Gelato has built th...  \n",
       "1595  About the job Description Etraveli Group is a ...  \n",
       "1596  About the job Are you Prokura’s new Consultant...  \n",
       "1597  About the job Spaulding Ridge is a best-in-clo...  "
      ]
     },
     "execution_count": 343,
     "metadata": {},
     "output_type": "execute_result"
    }
   ],
   "source": [
    "# show the tail 5 of data\n",
    "df.tail(5)"
   ]
  },
  {
   "cell_type": "code",
   "execution_count": 344,
   "metadata": {},
   "outputs": [
    {
     "data": {
      "text/plain": [
       "(1598, 14)"
      ]
     },
     "execution_count": 344,
     "metadata": {},
     "output_type": "execute_result"
    }
   ],
   "source": [
    "# the dataset dimensions\n",
    "df.shape"
   ]
  },
  {
   "cell_type": "code",
   "execution_count": 345,
   "metadata": {},
   "outputs": [
    {
     "name": "stdout",
     "output_type": "stream",
     "text": [
      "<class 'pandas.core.frame.DataFrame'>\n",
      "RangeIndex: 1598 entries, 0 to 1597\n",
      "Data columns (total 14 columns):\n",
      " #   Column            Non-Null Count  Dtype  \n",
      "---  ------            --------------  -----  \n",
      " 0   job_id            1598 non-null   int64  \n",
      " 1   job_title         1596 non-null   object \n",
      " 2   company_name      1596 non-null   object \n",
      " 3   company_link      1560 non-null   object \n",
      " 4   job_location      1189 non-null   object \n",
      " 5   publish_date      1578 non-null   object \n",
      " 6   applicant_count   1020 non-null   float64\n",
      " 7   job_type          1559 non-null   object \n",
      " 8   job_level         1330 non-null   object \n",
      " 9   company_size      1332 non-null   object \n",
      " 10  company_industry  1326 non-null   object \n",
      " 11  connection_count  521 non-null    float64\n",
      " 12  connection_type   521 non-null    object \n",
      " 13  job_description   1596 non-null   object \n",
      "dtypes: float64(2), int64(1), object(11)\n",
      "memory usage: 174.9+ KB\n"
     ]
    }
   ],
   "source": [
    "# show the summary of dataset\n",
    "df.info()"
   ]
  },
  {
   "cell_type": "code",
   "execution_count": 346,
   "metadata": {},
   "outputs": [
    {
     "data": {
      "text/html": [
       "<div>\n",
       "<style scoped>\n",
       "    .dataframe tbody tr th:only-of-type {\n",
       "        vertical-align: middle;\n",
       "    }\n",
       "\n",
       "    .dataframe tbody tr th {\n",
       "        vertical-align: top;\n",
       "    }\n",
       "\n",
       "    .dataframe thead th {\n",
       "        text-align: right;\n",
       "    }\n",
       "</style>\n",
       "<table border=\"1\" class=\"dataframe\">\n",
       "  <thead>\n",
       "    <tr style=\"text-align: right;\">\n",
       "      <th></th>\n",
       "      <th>job_id</th>\n",
       "      <th>applicant_count</th>\n",
       "      <th>connection_count</th>\n",
       "    </tr>\n",
       "  </thead>\n",
       "  <tbody>\n",
       "    <tr>\n",
       "      <th>count</th>\n",
       "      <td>1.598000e+03</td>\n",
       "      <td>1020.000000</td>\n",
       "      <td>521.00000</td>\n",
       "    </tr>\n",
       "    <tr>\n",
       "      <th>mean</th>\n",
       "      <td>3.172075e+09</td>\n",
       "      <td>33.469608</td>\n",
       "      <td>4.96737</td>\n",
       "    </tr>\n",
       "    <tr>\n",
       "      <th>std</th>\n",
       "      <td>6.707277e+07</td>\n",
       "      <td>34.739774</td>\n",
       "      <td>8.96086</td>\n",
       "    </tr>\n",
       "    <tr>\n",
       "      <th>min</th>\n",
       "      <td>2.722760e+09</td>\n",
       "      <td>1.000000</td>\n",
       "      <td>1.00000</td>\n",
       "    </tr>\n",
       "    <tr>\n",
       "      <th>25%</th>\n",
       "      <td>3.139856e+09</td>\n",
       "      <td>8.000000</td>\n",
       "      <td>1.00000</td>\n",
       "    </tr>\n",
       "    <tr>\n",
       "      <th>50%</th>\n",
       "      <td>3.195594e+09</td>\n",
       "      <td>19.000000</td>\n",
       "      <td>1.00000</td>\n",
       "    </tr>\n",
       "    <tr>\n",
       "      <th>75%</th>\n",
       "      <td>3.216569e+09</td>\n",
       "      <td>49.000000</td>\n",
       "      <td>4.00000</td>\n",
       "    </tr>\n",
       "    <tr>\n",
       "      <th>max</th>\n",
       "      <td>3.228182e+09</td>\n",
       "      <td>191.000000</td>\n",
       "      <td>61.00000</td>\n",
       "    </tr>\n",
       "  </tbody>\n",
       "</table>\n",
       "</div>"
      ],
      "text/plain": [
       "             job_id  applicant_count  connection_count\n",
       "count  1.598000e+03      1020.000000         521.00000\n",
       "mean   3.172075e+09        33.469608           4.96737\n",
       "std    6.707277e+07        34.739774           8.96086\n",
       "min    2.722760e+09         1.000000           1.00000\n",
       "25%    3.139856e+09         8.000000           1.00000\n",
       "50%    3.195594e+09        19.000000           1.00000\n",
       "75%    3.216569e+09        49.000000           4.00000\n",
       "max    3.228182e+09       191.000000          61.00000"
      ]
     },
     "execution_count": 346,
     "metadata": {},
     "output_type": "execute_result"
    }
   ],
   "source": [
    "#Describe the data\n",
    "df.describe()"
   ]
  },
  {
   "cell_type": "markdown",
   "metadata": {},
   "source": [
    "Only job_id is quantitative. The describe() doesn't show valuable insight."
   ]
  },
  {
   "cell_type": "markdown",
   "metadata": {},
   "source": [
    "##### Data cleanup"
   ]
  },
  {
   "cell_type": "code",
   "execution_count": 347,
   "metadata": {},
   "outputs": [
    {
     "name": "stdout",
     "output_type": "stream",
     "text": [
      "number of job_ids:  1598\n",
      "number of unique job_ids:  985\n",
      "number of job_ids after remove duplicates:  985\n"
     ]
    }
   ],
   "source": [
    "# job_id is unique value. Duplicated rows with same job_id will be dropped\n",
    "# count of job_ids\n",
    "print(\"number of job_ids: \", df['job_id'].count())\n",
    "\n",
    "# number of unique job_ids\n",
    "print(\"number of unique job_ids: \", df[\"job_id\"].nunique())\n",
    "\n",
    "# drop rows with duplicated job_id\n",
    "df = df.drop_duplicates(subset=['job_id'])\n",
    "print(\"number of job_ids after remove duplicates: \", df['job_id'].count())"
   ]
  },
  {
   "cell_type": "markdown",
   "metadata": {},
   "source": [
    "We cannot use the column with too much NaN values"
   ]
  },
  {
   "cell_type": "code",
   "execution_count": 348,
   "metadata": {},
   "outputs": [
    {
     "data": {
      "text/plain": [
       "job_id                0\n",
       "job_title             2\n",
       "company_name          2\n",
       "company_link         38\n",
       "job_location        261\n",
       "publish_date         20\n",
       "applicant_count     496\n",
       "job_type             39\n",
       "job_level           192\n",
       "company_size        190\n",
       "company_industry    196\n",
       "connection_count    689\n",
       "connection_type     689\n",
       "job_description       2\n",
       "dtype: int64"
      ]
     },
     "execution_count": 348,
     "metadata": {},
     "output_type": "execute_result"
    }
   ],
   "source": [
    "# count the NaN value of each column\n",
    "df.isna().sum()"
   ]
  },
  {
   "cell_type": "markdown",
   "metadata": {},
   "source": [
    "##### Check for Duplicates\n",
    "While the column of applicant_count, connection_count and connection_type are needed to be dropped "
   ]
  },
  {
   "cell_type": "code",
   "execution_count": 349,
   "metadata": {},
   "outputs": [
    {
     "data": {
      "text/html": [
       "<div>\n",
       "<style scoped>\n",
       "    .dataframe tbody tr th:only-of-type {\n",
       "        vertical-align: middle;\n",
       "    }\n",
       "\n",
       "    .dataframe tbody tr th {\n",
       "        vertical-align: top;\n",
       "    }\n",
       "\n",
       "    .dataframe thead th {\n",
       "        text-align: right;\n",
       "    }\n",
       "</style>\n",
       "<table border=\"1\" class=\"dataframe\">\n",
       "  <thead>\n",
       "    <tr style=\"text-align: right;\">\n",
       "      <th></th>\n",
       "      <th>job_id</th>\n",
       "      <th>job_title</th>\n",
       "      <th>company_name</th>\n",
       "      <th>company_link</th>\n",
       "      <th>job_location</th>\n",
       "      <th>publish_date</th>\n",
       "      <th>job_type</th>\n",
       "      <th>job_level</th>\n",
       "      <th>company_size</th>\n",
       "      <th>company_industry</th>\n",
       "      <th>job_description</th>\n",
       "    </tr>\n",
       "  </thead>\n",
       "  <tbody>\n",
       "    <tr>\n",
       "      <th>0</th>\n",
       "      <td>3225302096</td>\n",
       "      <td>Data Analyst (Tableau, Snowflake &amp; Python)</td>\n",
       "      <td>Nigel Frank International</td>\n",
       "      <td>https://www.linkedin.com/company/nigel-frank-i...</td>\n",
       "      <td>On-site</td>\n",
       "      <td>1 day ago</td>\n",
       "      <td>Full-time</td>\n",
       "      <td>Entry level</td>\n",
       "      <td>1,001-5,000</td>\n",
       "      <td>Staffing and Recruiting</td>\n",
       "      <td>About the job Data Analyst for Sweden's leadin...</td>\n",
       "    </tr>\n",
       "    <tr>\n",
       "      <th>1</th>\n",
       "      <td>3223774058</td>\n",
       "      <td>Product Data Analyst</td>\n",
       "      <td>Challengermode &gt;&gt; Meet us @GamesCom 2022</td>\n",
       "      <td>https://www.linkedin.com/company/challengermod...</td>\n",
       "      <td>Hybrid</td>\n",
       "      <td>2 days ago</td>\n",
       "      <td>Full-time</td>\n",
       "      <td>Mid-Senior level</td>\n",
       "      <td>11-50</td>\n",
       "      <td>Computer Games</td>\n",
       "      <td>About the job Does it really bother you when p...</td>\n",
       "    </tr>\n",
       "    <tr>\n",
       "      <th>2</th>\n",
       "      <td>3223917392</td>\n",
       "      <td>Analytics Engineer - Forecasting &amp; Data</td>\n",
       "      <td>Spotify</td>\n",
       "      <td>https://www.linkedin.com/company/spotify/life/</td>\n",
       "      <td>NaN</td>\n",
       "      <td>2 days ago</td>\n",
       "      <td>Full-time</td>\n",
       "      <td>Entry level</td>\n",
       "      <td>5,001-10,000</td>\n",
       "      <td>Musicians</td>\n",
       "      <td>About the job We are looking for an engineer w...</td>\n",
       "    </tr>\n",
       "    <tr>\n",
       "      <th>3</th>\n",
       "      <td>3181830993</td>\n",
       "      <td>Data Analyst</td>\n",
       "      <td>Sinch</td>\n",
       "      <td>https://www.linkedin.com/company/sinch/life/</td>\n",
       "      <td>NaN</td>\n",
       "      <td>1 week ago</td>\n",
       "      <td>Full-time</td>\n",
       "      <td>NaN</td>\n",
       "      <td>NaN</td>\n",
       "      <td>NaN</td>\n",
       "      <td>About the job We are Sinch. With presence in m...</td>\n",
       "    </tr>\n",
       "    <tr>\n",
       "      <th>4</th>\n",
       "      <td>3190008503</td>\n",
       "      <td>Senior Data Analyst</td>\n",
       "      <td>TUI</td>\n",
       "      <td>https://www.linkedin.com/company/tuigroup/life/</td>\n",
       "      <td>Hybrid</td>\n",
       "      <td>2 days ago</td>\n",
       "      <td>Full-time</td>\n",
       "      <td>Associate</td>\n",
       "      <td>10,001+</td>\n",
       "      <td>Travel Arrangements</td>\n",
       "      <td>About the job TUI is well on its way to transf...</td>\n",
       "    </tr>\n",
       "  </tbody>\n",
       "</table>\n",
       "</div>"
      ],
      "text/plain": [
       "       job_id                                   job_title  \\\n",
       "0  3225302096  Data Analyst (Tableau, Snowflake & Python)   \n",
       "1  3223774058                        Product Data Analyst   \n",
       "2  3223917392     Analytics Engineer - Forecasting & Data   \n",
       "3  3181830993                                Data Analyst   \n",
       "4  3190008503                         Senior Data Analyst   \n",
       "\n",
       "                               company_name  \\\n",
       "0                 Nigel Frank International   \n",
       "1  Challengermode >> Meet us @GamesCom 2022   \n",
       "2                                   Spotify   \n",
       "3                                     Sinch   \n",
       "4                                       TUI   \n",
       "\n",
       "                                        company_link job_location  \\\n",
       "0  https://www.linkedin.com/company/nigel-frank-i...      On-site   \n",
       "1  https://www.linkedin.com/company/challengermod...       Hybrid   \n",
       "2     https://www.linkedin.com/company/spotify/life/          NaN   \n",
       "3       https://www.linkedin.com/company/sinch/life/          NaN   \n",
       "4    https://www.linkedin.com/company/tuigroup/life/       Hybrid   \n",
       "\n",
       "  publish_date   job_type         job_level  company_size  \\\n",
       "0    1 day ago  Full-time       Entry level   1,001-5,000   \n",
       "1   2 days ago  Full-time  Mid-Senior level         11-50   \n",
       "2   2 days ago  Full-time       Entry level  5,001-10,000   \n",
       "3   1 week ago  Full-time               NaN           NaN   \n",
       "4   2 days ago  Full-time         Associate       10,001+   \n",
       "\n",
       "          company_industry                                    job_description  \n",
       "0  Staffing and Recruiting  About the job Data Analyst for Sweden's leadin...  \n",
       "1           Computer Games  About the job Does it really bother you when p...  \n",
       "2                Musicians  About the job We are looking for an engineer w...  \n",
       "3                      NaN  About the job We are Sinch. With presence in m...  \n",
       "4      Travel Arrangements  About the job TUI is well on its way to transf...  "
      ]
     },
     "execution_count": 349,
     "metadata": {},
     "output_type": "execute_result"
    }
   ],
   "source": [
    "df = df.drop('applicant_count', axis=1).drop('connection_count', axis=1).drop('connection_type', axis=1)\n",
    "df.head(5)"
   ]
  },
  {
   "cell_type": "markdown",
   "metadata": {},
   "source": [
    "Drop the rows with NaN job_title"
   ]
  },
  {
   "cell_type": "code",
   "execution_count": 350,
   "metadata": {},
   "outputs": [
    {
     "name": "stdout",
     "output_type": "stream",
     "text": [
      "count NaN of job_title column is  2\n"
     ]
    }
   ],
   "source": [
    "# drop the job_title row with the NaN values \n",
    "print(\"count NaN of job_title column is \", df['job_title'].isna().sum())\n",
    "df = df[df['job_title'].notna()]\n",
    "\n",
    "# drop the row if job_description is NaN\n",
    "df = df[df['job_description'].notna()]\n"
   ]
  },
  {
   "cell_type": "markdown",
   "metadata": {},
   "source": [
    "##### Handle the NaN of rest columns\n"
   ]
  },
  {
   "cell_type": "code",
   "execution_count": 351,
   "metadata": {},
   "outputs": [
    {
     "data": {
      "text/plain": [
       "job_id                0\n",
       "job_title             0\n",
       "company_name          0\n",
       "company_link         36\n",
       "job_location        259\n",
       "publish_date         18\n",
       "job_type             37\n",
       "job_level           190\n",
       "company_size        188\n",
       "company_industry    194\n",
       "job_description       0\n",
       "dtype: int64"
      ]
     },
     "execution_count": 351,
     "metadata": {},
     "output_type": "execute_result"
    }
   ],
   "source": [
    "# Check NaN\n",
    "df.isna().sum()"
   ]
  },
  {
   "cell_type": "code",
   "execution_count": 352,
   "metadata": {},
   "outputs": [],
   "source": [
    "# Set company link to empty string which means the there is no company page on linkedin\n",
    "df['company_link'] = df['company_link'].fillna('')"
   ]
  },
  {
   "cell_type": "markdown",
   "metadata": {},
   "source": [
    "Value imputation is used to guess the missing values for the columns with NaN value."
   ]
  },
  {
   "cell_type": "code",
   "execution_count": 353,
   "metadata": {},
   "outputs": [
    {
     "data": {
      "text/plain": [
       "Remote     328\n",
       "On-site    269\n",
       "Hybrid     127\n",
       "Name: job_location, dtype: int64"
      ]
     },
     "execution_count": 353,
     "metadata": {},
     "output_type": "execute_result"
    }
   ],
   "source": [
    "# summarize the job_location values\n",
    "df['job_location'].value_counts()"
   ]
  },
  {
   "cell_type": "markdown",
   "metadata": {},
   "source": [
    "The default job_location is On-site when the value is missing on the job page."
   ]
  },
  {
   "cell_type": "code",
   "execution_count": 354,
   "metadata": {},
   "outputs": [],
   "source": [
    "# replace the NaN value as 'On-site' \n",
    "df['job_location'] = df['job_location'].fillna('On-site')"
   ]
  },
  {
   "cell_type": "markdown",
   "metadata": {},
   "source": [
    "The missing publish_date will be set to empty string"
   ]
  },
  {
   "cell_type": "code",
   "execution_count": 355,
   "metadata": {},
   "outputs": [
    {
     "data": {
      "text/plain": [
       "1 week ago      222\n",
       "3 weeks ago     198\n",
       "2 weeks ago     130\n",
       "1 month ago     116\n",
       "1 day ago        61\n",
       "2 days ago       58\n",
       "3 days ago       39\n",
       "6 days ago       31\n",
       "4 weeks ago      30\n",
       "4 days ago       25\n",
       "2 months ago     22\n",
       "                 18\n",
       "5 days ago        6\n",
       "3 months ago      5\n",
       "22 hours ago      4\n",
       "8 months ago      3\n",
       "4 months ago      3\n",
       "23 hours ago      2\n",
       "6 months ago      2\n",
       "2 hours ago       2\n",
       "5 hours ago       1\n",
       "21 hours ago      1\n",
       "3 hours ago       1\n",
       "14 hours ago      1\n",
       "1 hour ago        1\n",
       "5 months ago      1\n",
       "Name: publish_date, dtype: int64"
      ]
     },
     "execution_count": 355,
     "metadata": {},
     "output_type": "execute_result"
    }
   ],
   "source": [
    "df['publish_date'] = df['publish_date'].fillna('')\n",
    "df['publish_date'].value_counts()"
   ]
  },
  {
   "cell_type": "markdown",
   "metadata": {},
   "source": [
    "The missing job_type is filled with 'Full-time'"
   ]
  },
  {
   "cell_type": "code",
   "execution_count": 356,
   "metadata": {},
   "outputs": [
    {
     "data": {
      "text/plain": [
       "Full-time                   789\n",
       "Part-time                   101\n",
       "Contract                     50\n",
       "Temporary                     3\n",
       "Internship                    1\n",
       "€1/month                      1\n",
       "£70,000/yr - £100,000/yr      1\n",
       "Name: job_type, dtype: int64"
      ]
     },
     "execution_count": 356,
     "metadata": {},
     "output_type": "execute_result"
    }
   ],
   "source": [
    "df['job_type'].value_counts()"
   ]
  },
  {
   "cell_type": "code",
   "execution_count": 357,
   "metadata": {},
   "outputs": [],
   "source": [
    "# fill NaN with 'Full-time'\n",
    "df['job_type'] = df['job_type'].fillna('Full-time')"
   ]
  },
  {
   "cell_type": "markdown",
   "metadata": {},
   "source": [
    "The default value of job_level is set to 'Not specified'"
   ]
  },
  {
   "cell_type": "code",
   "execution_count": 358,
   "metadata": {},
   "outputs": [
    {
     "data": {
      "text/plain": [
       "Entry level         370\n",
       "Associate           209\n",
       "Mid-Senior level    203\n",
       "Director              9\n",
       "Full-time             2\n",
       "Name: job_level, dtype: int64"
      ]
     },
     "execution_count": 358,
     "metadata": {},
     "output_type": "execute_result"
    }
   ],
   "source": [
    "# check job_level value range\n",
    "df['job_level'].value_counts()"
   ]
  },
  {
   "cell_type": "code",
   "execution_count": 359,
   "metadata": {},
   "outputs": [],
   "source": [
    "# fill in the NaN with 'Not specified'\n",
    "df['job_level'] = df['job_level'].fillna('Not specified')"
   ]
  },
  {
   "cell_type": "markdown",
   "metadata": {},
   "source": [
    "The value 'Full-time' is an outlier in 'job_level' column. The 'Full-time' will be replace with 'Not specified'"
   ]
  },
  {
   "cell_type": "code",
   "execution_count": 360,
   "metadata": {},
   "outputs": [],
   "source": [
    "# fix the incorrect value of 'Full-time'\n",
    "df['job_level'] = df['job_level'].replace(['Full-time'], 'Not specified')"
   ]
  },
  {
   "cell_type": "markdown",
   "metadata": {},
   "source": [
    "Replace the missing company size with 'Not specified'"
   ]
  },
  {
   "cell_type": "code",
   "execution_count": 361,
   "metadata": {},
   "outputs": [],
   "source": [
    "df['company_size'] = df['company_size'].fillna('Not specified')\n",
    "\n",
    "#The company size codes from smallest to largest are '1-10', '11-50', '51-200', '201-500', '501-1000', '1001-5000', '5,001-10,000' and '10,001+'"
   ]
  },
  {
   "cell_type": "markdown",
   "metadata": {},
   "source": [
    "Replace the NaN value in company_industry with 'Not specified'"
   ]
  },
  {
   "cell_type": "code",
   "execution_count": 362,
   "metadata": {},
   "outputs": [
    {
     "data": {
      "text/plain": [
       "IT Services and IT Consulting         217\n",
       "Staffing and Recruiting               213\n",
       "Not specified                         194\n",
       "Financial Services                     45\n",
       "Software Development                   36\n",
       "                                     ... \n",
       "Hospitality                             1\n",
       "Philanthropic Fundraising Services      1\n",
       "Mining                                  1\n",
       "Research Services                       1\n",
       "Civil Engineering                       1\n",
       "Name: company_industry, Length: 68, dtype: int64"
      ]
     },
     "execution_count": 362,
     "metadata": {},
     "output_type": "execute_result"
    }
   ],
   "source": [
    "# replace NaN with 'Not specified'\n",
    "df['company_industry'] = df['company_industry'].fillna('Not specified')\n",
    "\n",
    "# check the value range of company_industry column\n",
    "df['company_industry'].value_counts()"
   ]
  },
  {
   "cell_type": "code",
   "execution_count": 363,
   "metadata": {},
   "outputs": [
    {
     "data": {
      "text/plain": [
       "job_id              0\n",
       "job_title           0\n",
       "company_name        0\n",
       "company_link        0\n",
       "job_location        0\n",
       "publish_date        0\n",
       "job_type            0\n",
       "job_level           0\n",
       "company_size        0\n",
       "company_industry    0\n",
       "job_description     0\n",
       "dtype: int64"
      ]
     },
     "execution_count": 363,
     "metadata": {},
     "output_type": "execute_result"
    }
   ],
   "source": [
    "# check the NaN of the dataframe again \n",
    "df.isna().sum()"
   ]
  },
  {
   "cell_type": "markdown",
   "metadata": {},
   "source": [
    "\n",
    "##### Check value counts of the specific column, job_title"
   ]
  },
  {
   "cell_type": "code",
   "execution_count": 364,
   "metadata": {},
   "outputs": [
    {
     "data": {
      "text/plain": [
       "Data Engineer                                                            68\n",
       "Business Analyst                                                         26\n",
       "Data Scientist                                                           20\n",
       "Senior Data Engineer                                                     15\n",
       "Data Analyst                                                             14\n",
       "                                                                         ..\n",
       "Database Engineer                                                         1\n",
       "Data Engineer, Data Management & Architecture                             1\n",
       "Oracle Developer Data warehouse developer                                 1\n",
       "(Senior) ETRM Cloud Data Engineer                                         1\n",
       "Konsult inom datacenter och server, lagring, backup och HCI-lösningar     1\n",
       "Name: job_title, Length: 641, dtype: int64"
      ]
     },
     "execution_count": 364,
     "metadata": {},
     "output_type": "execute_result"
    }
   ],
   "source": [
    "# check the job_title\n",
    "df['job_title'].value_counts()"
   ]
  },
  {
   "cell_type": "markdown",
   "metadata": {},
   "source": [
    "The values of the job titles need to be replaced by similarity."
   ]
  },
  {
   "cell_type": "code",
   "execution_count": 368,
   "metadata": {},
   "outputs": [
    {
     "name": "stdout",
     "output_type": "stream",
     "text": [
      "['(Senior) Biostatistician', '(Senior) Data Analyst - Growth', '(Senior) ETRM Cloud Data Engineer', '(Senior) Product Data Analyst - City (m/f/d)', '(Senior) Product Data Analyst - Consumer (m/f/d)', '(Senior) Quantitative Risk Analyst', '2023 - Business Analyst - Stockholm', 'A Z U R E - Data Engineer - (S W E D E N)', 'A Z U R E - Data Engineer - S W E D E N', 'AI Research Engineer', 'AWS Cloud Engineer', 'AWS Data Engineer - Streaming Data, AWS, Python, Kinesis, Kafka - 100% Remote Contract', 'AWS Engineer', 'Advanced Solutions Engineer', 'Agile Business Analyst, Financial Services', 'Algorithm Developer/Algoritmutvecklare', 'Algorithm Engineer', 'Allegro Developer', 'Analyst & Senior Analyst- Pay Per Click, Marketing (Bangkok Based, relocation provided)', 'Analyst or Senior Analyst or Associate Manager(Bangkok Based, relocation provided)', 'Analyst or Senior Analyst- Beds Network (Bangkok Based, relocation provided)', 'Analyst or Senior Analyst- Customer Experience Group(Bangkok Based, relocation provided)', 'Analyst or Senior Analyst- Customer Marketing (Bangkok Based, relocation provided)', 'Analyst, Senior Analyst, Associate Manager (Bangkok Based, relocation provided)', 'Analyst/Senior Analyst, Credit Analyst - Corporates - Industrials - Stockholm', 'Analytics Analyst to Sileon', 'Analytics Consultant - McKinsey Digital', 'Analytics Engineer', 'Analytics Engineer - Forecasting & Data', 'Analytiker till avdelningen Data- och verksamhetsutveckling', 'Analytiker till staben Ekonomisk analys', 'Anaplan Consultant', 'Application Engineer', 'Application Engineer - Education', 'Application Engineer for Battery Systems', 'Applications Engineer - GPR', 'ArcGIS Developer', 'Artificial Intelligence Engineer', 'Associate Data Analyst- Customer Experience Group | Bangkok-based', 'Azure Cloud Developer', 'Azure Data Engineer', 'Azure Data Engineer - GTM0597', 'Azure Migration specialist', 'BI Analyst', 'BI Consultant- Fully remote position', 'BI Consultant- Remote Position', 'BI Consultant- Stockholm', 'BI Consultant- Stockholm/ Remote Position', 'BI Developer', 'BI Developer - Stockholm', 'BI Developer in Stockholm', 'BI Developer to If Insurance', 'BI Developer to Lantmännen', 'BI Developer, Stockholm, Gothenburg, Link�ping and J�nk�ping', 'BI Developer- Stockholm', 'BI Developer- Stockholm & Gothenburg', 'BI Developers- Stockholm', 'BI Engineer- Acceleration Nordics', 'BI-Controller', 'BI/ Data Engineer Consultants - Multiple locations in Sweden', 'Back End Developer', 'Back End Python Engineer', 'Backend Engineer', 'Backend Engineer (Python) - UK or France (Remote)', 'Backend Engineer, Data Acquisition', 'Backend/Infrastructure Engineer', 'Biostatistician', 'Biostatistician II; Senior Biostatistician I,II; Principal Biostatistician', 'Blockchain Developer', 'Build Engineer - Shared Tech', 'Business Analyst', 'Business Analyst (m/f/d)', 'Business Analyst - AI & Automation', 'Business Analyst - Central Stockholm', 'Business Analyst - Front Arena', 'Business Analyst - VIE Contract (W/M)', 'Business Analyst - Wasa Kredit', 'Business Analyst -Sweden', 'Business Analyst / Kravare', 'Business Analyst /Technical Tester', 'Business Analyst Quality Assurance', 'Business Analyst Retail', 'Business Analyst Retail & E-Commerce', 'Business Analyst Senior Specialist - Nasdaq', 'Business Analyst at Sales and Customer Relationship (CR) to SEB Kort in Stockholm', 'Business Analyst till Däckskiftarna', 'Business Analyst till ESSVE', 'Business Analyst till Visma PubliTech!', 'Business Analyst till streaming-bolag - Castra', 'Business Analyst to ESG Analytics, Nordics', 'Business Analyst to ISK and IPS', 'Business Analyst with BI Product Owner responsibilities', 'Business Analyst, Commercial Systems', 'Business Analyst, Data Driven Services', 'Business Analyst- Beds Network (Bangkok Based, relocation provided)', 'Business Analyst- IAM', 'Business Controller - Group Central Functions (FP&A Analyst)', 'Business Controller Consumables and Accessories', 'Business Developer Intelligent Operations', 'Business Engineer', 'Business Intelligence Analyst', 'Business Intelligence Consultant', 'Business Intelligence Consultant - Stockholm', 'Business Intelligence Developer', 'Business Intelligence Developer & Analyst - Reinsight Talangprogram', 'Business Intelligence Developer/Analyst', 'Business Intelligence Engineer', 'Business Intelligence Specialist', 'Business Intelligence – Dataanalytiker (Stockholm, Halmstad alt. Helsingborg)', 'Business Intelligence- och Analytics-konsult - Stockholm', 'Business/Data Analyst', 'CEE COUNTRIES - Clinical Data Analyst', 'CRM Business Analyst - SEB Kort', 'CRM analyst to Acne Studios', 'Cervera söker en Business Analyst, CRM', 'Client Service Analyst to CSS!', 'Clinical Statistical Programmer', 'Cloud Data Engineer', 'Cloud Data Engineer (Python)', 'Cloud Data Engineer till Finity People', 'Cloud Data Engineer, Professional Services, Google Cloud', 'Cloud Engineer', 'Cloud Engineer (Remote)', 'Cloud Engineer - GCP BigQuery Specialist', 'Cloud Engineer - GCP Cloud SQL Specialist', 'Cloud Engineer - GCP Compute Specialist', 'Cloud Engineer - GCP Data Processing Specialist', 'Cloud Engineer - GCP Security Specialist', 'Cloud Engineer - GKE Specialist', 'Cloud Engineer - Platform', 'Cloud Engineer [REMOTE]', 'Cloud Engineer to accelerate our growing cloud journey', 'Cloud Infrastructure Engineer', 'Cloud Operations Engineer, EMEA', 'Cloud Security Engineer', 'Cloud System Engineer', 'Cobol developer to SEB in Stockholm', 'Coffee loving Data & BI Engineer at Espresso House', 'Commercial Excellence Analyst – Region Nordics (Sweden, Denmark, Norway)', 'Complex Intelligence Analyst', 'Computer Vision Engineer', 'Computer Vision Research Engineer - 3D Vision (Stockholm or Gothenburg, Sweden)', 'Consultant', 'Contract Principal Statistician (remote-based)', 'Coop, Cloud Data Engineer', 'Cost Assurance Analyst', 'Credit Analyst', 'Cryptographer', 'Customer Engineer, Smart Analytics, Digital Natives Customers', 'Customer Engineer, Smart Analytics, Google Cloud', 'Customer Insight Analyst at SEB in Stockholm', 'Cyber Security Specialist', 'DATA ENGINEER - Dubai, UAE', 'DATA SCIENTIST TILL STOCKHOLM', 'Data & BI Engineer', 'Data Analyst', 'Data Analyst (Online) - Czech', 'Data Analyst (Online) - Czech (CZ)', 'Data Analyst (Online) - Czech speaker', 'Data Analyst (Online) - Danish (DK)', 'Data Analyst (Online) - Hungarian', 'Data Analyst (Online) - Hungarian (HU)', 'Data Analyst (Online) - Hungary (HU)', 'Data Analyst (Online) for Czech speaker (CZ)', 'Data Analyst (Online) for Danish speaker (DK)', 'Data Analyst (Online) for Hungarian speaker (HU)', 'Data Analyst (Statistics/Python/BI) (Bangkok-based, relocation provided)', 'Data Analyst (Tableau, Snowflake & Python)', 'Data Analyst (online) - Czech', 'Data Analyst (online) - Czech (CZ)', 'Data Analyst (online) - Czech speaker (part time job)', 'Data Analyst (online) - Danish', 'Data Analyst (online) - Danish (DK)', 'Data Analyst (online) - Danish speaker', 'Data Analyst (online) - Danish speaker (part time job)', 'Data Analyst (online) - Hungarian', 'Data Analyst (online) - Hungarian (HU)', 'Data Analyst (online) - Hungarian speaker', 'Data Analyst (online) - Hungarian speaker (part time job)', 'Data Analyst - Attack Surface Discovery', 'Data Analyst - Czech', 'Data Analyst - Czech (CZ)', 'Data Analyst - Czech (Part Time)', 'Data Analyst - Czech Speaker (CZ)', 'Data Analyst - Czech Speaker (CZ) PART TIME', 'Data Analyst - Danish', 'Data Analyst - Danish (DK)', 'Data Analyst - Danish (DK) PART TIME', 'Data Analyst - Danish (Part Time)', 'Data Analyst - Hungarian', 'Data Analyst - Hungarian (HU)', 'Data Analyst - Hungarian (HU) PART TIME', 'Data Analyst - Hungarian (Part TIme)', 'Data Analyst - Marketing', 'Data Analyst - Stockholm', 'Data Analyst - Stockholm - Microsoft Partner', 'Data Analyst / Engineer to Nordax Bank', 'Data Analyst for Czech Speaker', 'Data Analyst for Czech speaker', 'Data Analyst for Czech speaker (CZ)', 'Data Analyst for Danish speaker', 'Data Analyst for Danish speaker (DK)', 'Data Analyst for Danish speaker - part time', 'Data Analyst for Hungarian speaker', 'Data Analyst for Hungarian speaker (HU)', 'Data Analyst till Lendo', 'Data Analyst till Tre', 'Data Analyst, Partner Health Monitoring', 'Data Analyst- Czech (CZ)', 'Data Analyst- Stockholm', 'Data Analyst/BI Developer till spännande konsultbolag 👨\\u200d🎤', 'Data Analytics Manager – Customer Experience Group Based in Bangkok', 'Data Analytics Manager, Developer Operations', 'Data Architect or Data Engineer? Join our Tech Edge Team!', 'Data Centre Engineer', 'Data Engineer', 'Data Engineer (Sweden)', 'Data Engineer (x/f/m)', 'Data Engineer - Big Data', 'Data Engineer - Car Service', 'Data Engineer - Central', 'Data Engineer - Central Stockholm', 'Data Engineer - Composer', 'Data Engineer - Databricks with Pyspark', 'Data Engineer - Financial Services', 'Data Engineer - H&M', 'Data Engineer - Informationdriven Healthcare', 'Data Engineer - Python/Pyspark', 'Data Engineer - QuantumBlack', 'Data Engineer - Remote/Europe', 'Data Engineer - Scala', 'Data Engineer - Schibsted', 'Data Engineer - Stockholm', 'Data Engineer - Stockholm & Gothenburg', 'Data Engineer - Stockholm - Azure and Snowflake', 'Data Engineer - Stockholm - Household Name', 'Data Engineer Consultant to Redpill Linpro Data Analytics Stockholm AB', 'Data Engineer Consultant- Stockholm', 'Data Engineer Team Lead - BRA0740', 'Data Engineer for PaymentIQ', 'Data Engineer for data platform', 'Data Engineer in Gothenburg', 'Data Engineer in Stockholm', 'Data Engineer till Cabonline!', 'Data Engineer till Kayenta', 'Data Engineer till SPP!', 'Data Engineer to Analytics and Reporting at SEB in Stockholm', 'Data Engineer to Budbee!', 'Data Engineer to interesting assignment', 'Data Engineer to the BI-team at Schibsted Marketing Services (SMS)', 'Data Engineer | Digital Experience', 'Data Engineer – Google Cloud', 'Data Engineer – Solution Architect', 'Data Engineer, Commercial Systems', 'Data Engineer, Common Data Warehouse - Marketplaces', 'Data Engineer, Data Management & Architecture', 'Data Engineer, Data Management & Architecture - Globally Remote', 'Data Engineer, Financial Industry- Stockholm', 'Data Engineer, Insights & Data', 'Data Engineer, Insights & Data - Stockholm', 'Data Engineer, Stockholm', 'Data Engineer- Fintech- Stockholm', 'Data Engineer- Malmo and Stockholm', 'Data Engineer- Microsoft Partner- Stockholm', 'Data Engineer- Stockholm', 'Data Engineer- Stockholm and Gothenburg', 'Data Engineer- Stockholm, Gothenburg & Malmo', 'Data Engineer- Stockholm, Gothenburg, Malmo', 'Data Engineer- Stockhom', 'Data Engineér till Lantmännen', 'Data Infrastructure Engineer', 'Data Infrastructure Engineer, Relay - eCT', 'Data Officer', 'Data Scientist', 'Data Scientist (Advanced Analytics)', 'Data Scientist (python)', 'Data Scientist - Acceleration Nordics', 'Data Scientist - Ads - 12 Months Contract', 'Data Scientist - NLP - Stockholm, Gothenburg, Oslo', 'Data Scientist - QuantumBlack', 'Data Scientist - Soundtrap, Freemium', 'Data Scientist - Stockholm', 'Data Scientist - Time Series Forecasting', 'Data Scientist med intresse för TV och streaming', 'Data Scientist | Machine Learning - Recommender System', 'Data Scientist, Commercial Systems', 'Data Scientist, Growth', 'Data Scientist/Analyst', 'Data Specialist', 'Data Specialist (Analyst with Data Science)', 'Data Specialist (Power BI)', 'Data Visualisation Engineer - EMEA', 'Data Visualization Engineer - Candy Crush', 'Data Warehouse Developer', 'Data Warehouse Developer - Stockholm', 'Data Warehouse/SQL Developer', 'Data analyst', 'Data analyst (online) - Czech (CZ)', 'Data analyst - Danish', 'Data and Analytics Lead', 'Data engineer', 'Data engineer - Stockholm', 'Data engineer på Riksbanken i Stockholm', 'Data scientist', 'Data/Business Analyst', 'Data/Business Analyst - Stockholm - FinTech', 'DataOps Engineer', 'Dataanalytiker och Verksamhetsutvecklare till Karolinska Universitetssjukhuset', 'Dataanalytiker till Dagens Nyheter', 'Dataanalytiker till Prognoscentret', 'Dataanalytiker till energisektorn', 'Database Engineer', 'Database Engineer - Platform', 'Database Infrastructure Engineer (Remote) - Cleura', 'Dedicated Services Engineer, Portuguese speaking', 'DevOps Engineer', 'Developer', 'Developer Operations, Platform Policy Investigator', 'Digital Analyst', 'Digital Analyst - Analytics', 'Digital Analyst - Bluestep Bank', 'Digital Analyst/CRO-specialist', 'Digital Analytics Consultant', 'Digital Marketing Analyst - Sleep Cycle', 'Digital Transformation - Experienced Business Analyst', 'Director of Analytics', 'ERP Business Analyst (Procure to Pay)', 'ERP Business Analyst (TP Projects & Service)', 'Electronic Data Interchange Developer', 'Engineering Manager - Data and Analytics', 'Enterprise Systems Engineer', 'Entry Level Machine Learning Engineer', 'Experienced Machine Learning Engineer - Stockholm', 'FOREX söker Data Engineer', 'Field Services Engineer', 'Finance Analytics Engineer', 'Finance Data Analyst', 'Fraud Investigaton Specialist', 'Freelance Clinical Data Programming Lead - SAS, SDTM', 'Freelancers: Data & Analytics 🔥', 'Freelancers: IT & Development 🔥', 'Full Stack Engineer', 'Full stack engineer - Immediate Start', 'Fully Remote Scala Contractor - 12 Months', 'Förvaltningsledare/ Business Analyst inom Analytics - Stockholm/Göteborg/ Malmö', 'GCP Data Engineer', 'GFCP Expert - Data Analyst', 'GFCP Senior Expert - Data Analyst', 'Game Mathematician', 'Games Data Analyst', 'Global Cloud Analytics Specialist', 'Global Data Engineer', 'Global Electrolux Talent Program - IT Business Analyst – Consumer Service', 'Global Quality Data analyst', 'Go Agent Engineer', 'Google Cloud Data Engineer', 'Google Cloud Engineer', 'Graduate Program - Data Science & Machine Learning Engineer (Stockholm)', 'Graduate Solutions Engineer - Sweden', 'Graph Data Engineer- Graph & Semantics - Tietoevry Create', 'Hur kan data omvandlas till insikter? Bli Data Engineer via AW Academy och starta din nya karriär inom IT-branschen!', 'IP Analyst (Hybrid- Europe)', 'IT & Business Process Analyst - Checkout', 'IT - Produktägare till Ving (Data och Analys)', 'IT Business Analyst Consultant', 'IT Operations Engineer to hallon', 'IT QA Engineer/ Testing Engineer', 'IT Senior Business Analyst - SAP', 'Identity & Access Management Developer', 'Implementation Engineer ( Unix )', 'Implementation Specialist (Google Analytics)', 'Index Analyst', 'InfoSec - Senior Governance and Customer Assurance Analyst', 'Information Technology Business Analyst', 'Infrastructure Developer in WAF team at SEB in Stockholm', 'Infrastructure Engineer', 'Infrastructure Engineer, Europe', 'Infrastructure Operations Engineer', 'Integration Developer', 'Integration Engineer', 'Java Developer', 'Java Software Engineer', 'Junior Business Analyst', 'Junior Business Analyst till världsledande fordonstillverkare!', 'Junior Data Scientist (1 year experience)', 'Junior Integration Engineer', 'Junior OT Engineer', 'Junior OpenShift Engineer - IBM CIC', 'Junior analytiker till Skarpa', 'Junior data engineer till snabbväxande bolag i Stockholm!', 'Junior dataanalytiker till CFI Group', 'Kofax Developer to SEB in Stockholm', 'Konsult inom Testautomation', 'Konsult inom datacenter och server, lagring, backup och HCI-lösningar', 'Konsult inom framtidens mobilkommunikation?', 'Language Data Analyst - Swedish', 'Lead Business Analyst', 'Lead Data Analyst for Customer domain @H&M Group', 'Lead Data Engineer', 'Lead Data Engineer till Premo i Stockholm', 'Localization Developer', 'Logistics Operations Associate', 'MDM Analyst till Össur – Vi hjälper människor till rörligare liv!', 'MSBI Developer - Stockholm - Travel Industry', 'Machine Learning Engineer', 'Machine Learning Engineer - User Journey', 'Machine Learning Engineer AI, Advanced Analytics & Data', 'Machine Learning Operations Engineer', 'Machine Learning Research Engineer - 3D Vision (available in Stockholm or Gothenburg, Sweden', 'Machine Learning Solutions Engineer', 'Manager, Business Analyst, Nordics', 'Manager, Customer Analytics (Bangkok-based, relocation provided)', 'Master Data Management (MDM) konsult - Stockholm', 'Media Analyst Lead', 'Microsoft 365 Engineer', 'Mid Level Incident Readiness Consultant', 'Middle Python Developer', 'Migration Developer', 'Migration Test Analyst', 'Mjukvaruutvecklare', 'Monitoring Engineer - Infra', 'NetSuite konsult', 'Nordic Senior Reforecasting Analyst', 'Online Data Analyst', 'Online Data Analyst - Sweden', 'Oracle Developer Data warehouse developer', 'PART TIME JOB - Data Analyst for Czech speaker (CZ)', 'PART TIME JOB - Data Analyst for Danish speaker (DK)', 'PART TIME JOB: Data Analyst - Czech (CZ)', 'PART TIME JOB: Data Analyst - Danish (DK)', 'PART TIME JOB: Data Analyst - Hungarian (HU)', 'PART TIME JOB: Data Analyst for Hungarian speaker (HU)', 'PLM Business Analyst', 'PO Data & Analys - Interim Stockholm', 'People Data Analyst', 'Performance Analyst', 'Performance Test Engineer to SEB in Stockholm', 'Portfolio Analyst', 'Power BI Consultant, Stockholm', 'Power BI Consultant- Stockholm', 'Power BI Developer', 'Power BI Developer, Stockholm', 'Premo i Stockholm söker Data Engineer', 'Principal Biostatistician', 'Principal Biostatistician - EU (Lead Biostatistician) - Immediate Start', 'Principal Customer Data Platform Engineer', 'Principal Data Scientist - Candy Crush', 'Principal Database Systems Engineer', 'Principal SAS Programmer', 'Principal/Senior Biostatistician', 'Principal/Senior Statistical Programmer', 'Product Analyst', 'Product Data Analyst', 'Product Manager - Data Foundations', 'Product Manager - Data Quality & Standards (Informatica IDQ and/or Axon)', 'Product Manager med bakgrund från Digital Marketing', 'Production Developer', 'Python Developer', 'Python Developer - GCP', 'Python Developer - Remote', 'Python Developer - Stockholm', 'Python Developer - Stockholm - Scale up', 'Python Developer / Fintech / Stockholm', 'Python Developer / Stockholm / Fintech', 'Python Developer Remote Euro (Crypto-Exchange Largest)', 'Python Engineer', 'Python Engineer - Stockholm', 'Python Specialists Needed!', 'Python/Django Engineer', 'Python/GCP Developer', 'QA Engineer', 'QA Engineer - Core Experience', 'QA Engineer - Data', 'QA Engineer - QA (SWEDEN Remote)', 'QA and Test Engineer for the app team at SEB Kort in Stockholm', 'Qlik Developer - Stockholm', 'Quality Assurance Engineer', 'Quantitative Analyst', 'Requirement Analyst/Business analyst', 'Requirements Analyst / Business Analyst to Nexer, Stockholm', 'Research Associate III- Data Analytics', 'Research Data Scientist', 'Rust/Solana Engineer', 'SAS Programmer I/II', 'SAS Programmer II', 'SDE - Live Low Latency Player', 'SIEM Engineer', 'SQL Developer', 'SQL Developer - Stockholm', 'SQL Developer Within Asset Management Area, Technology, Savings Offering', 'SSIS ADF DevOps Specialist (Remote)', 'SW Test Automation Engineer', 'SaaS Ops Engineer', 'Sales Engineer, Smart Analytics, Google Cloud', 'Sales Operation Analyst - Hiring Immediately', 'Sales Operations Business Analyst - Nordics, Nordics SSOE Analyst', 'Salesforce Developer', 'Salesforce Developer (Revenue Systems)', 'Salesforce Developer - Stockholm', 'Salesforce Developer at Deloitte Digital', 'Salesforce Developer- Fully Remote', 'Scala Developer', 'Scala Developer - (EU Fully Remote)', 'Security Engineer - Security Operations', 'Security Operations Engineer', 'Senior Analyst Cybersecurity', 'Senior Analyst, Account Management, Sweden', 'Senior Analyst, Finance Business Partner', 'Senior Analytics Consultant', 'Senior Analytics Engineer EMEA', 'Senior BI Back-End Developer', 'Senior BI Consultant', 'Senior BI/DW Developer', 'Senior Bid Analyst', 'Senior Biostatistician', 'Senior Build & Release Specialist [New Game IP]', 'Senior Business Analyst', 'Senior Business Analyst - Product', 'Senior Business Analyst Telco – BTS (Business & Technology Solutions), Stockholm', 'Senior Business Analyst inom digitaliseringsprojekt - Stockholm', 'Senior Business Analyst till digitaliseringsprojekt', 'Senior Business Analyst to Master Data Management, Group Business Support', 'Senior Business Intelligence / Data Visualization Engineer', 'Senior Business Intelligence Consultant', 'Senior Business Planning Analyst', 'Senior Business analyst/Business Analyst, Capability Personal Banking Sweden', 'Senior COBOL Developer - Leading Bank!', 'Senior Cloud Data Warehouse Test Engineer to SEB in Stockholm', 'Senior Computer Vision Engineer- Technology Development Group', 'Senior Credit Analyst', 'Senior DW Developer', 'Senior DW Developer - Stockholm', 'Senior Data Acquisition Engineer', 'Senior Data Analyst', 'Senior Data Analyst (Bangkok Based, relocation provided)', 'Senior Data Analyst - Support Operations', 'Senior Data Analyst, Partner Development – (Statistics/ML/BI) (Bangkok-based, relocation provided)', 'Senior Data Engineer', 'Senior Data Engineer - Stockholm', 'Senior Data Engineer - User Platform', 'Senior Data Engineer to Customer Relationship Management to SEB', 'Senior Data Engineer – Apache Spark (Java/Scala) (Bangkok based, relocation provided)', 'Senior Data Engineer- Renewable Energy Company- Stockholm', 'Senior Data Scientist', 'Senior Data Scientist (f/m/d)', 'Senior Data Scientist - Experience', 'Senior Data Scientist - Product Analytics', 'Senior DataOps Engineer', 'Senior Database Developer', 'Senior Deal Desk & Sales Operations Analyst', 'Senior Developer – Microservice Development - Urgent', 'Senior Digital Analyst', 'Senior Digital Analyst till Adding Insight', 'Senior ERP Customer Care Analyst', 'Senior Engineer MQ IMS Mainframe to SEB in Stockholm', 'Senior FP&A Analyst', 'Senior IT Analyst', 'Senior IT Analyst to Business Institutional Technology', 'Senior Information Technology Engineer', 'Senior ML Engineer (Stockholm, Sweden)', 'Senior Originator (Route to Market & Flexible Services)', 'Senior People Tech Analyst - Workday (Recruiting & HCM)', 'Senior PostgreSQL Developers - Remote working', 'Senior Power BI Engineer', 'Senior Pricing Analyst', 'Senior QA Analyst', 'Senior Reporting Analyst - Marketing', 'Senior SAS Programmer', 'Senior Sales Operations Analyst', 'Senior Salesforce Developer', 'Senior Software Data Engineer', 'Senior Software Developer', 'Senior Software Engineer', 'Senior Software Engineer/Data & Analytics', 'Senior Solidity Engineer - DEFI / Crypto / Quant', 'Senior Specialist - Applied Cryptography Engineer', 'Senior Statistical Programmer', 'Senior Systems Engineer', 'Senior Workday Analyst', 'Senior analytiker med intresse för samhällsekonomisk analys', 'Senior/Junior Business Analyst in the Financial Crime Risk Data Development unit', 'Service Assurance Engineer', 'Sharepoint Developer', 'Shift Leader foodora market - Västerort', 'Site Reliability Engineer – Data & Analytics at SEB in Stockholm', 'Software Developer', 'Software Developer - Laboratory Informatic Management Services', 'Software Developer - Stockholm', 'Software Developer C/C++, Embedded Systems, to Atlas Copco in Nacka', 'Software Engineer - Backend Python Developer | H&M', 'Software Engineer - Data Engineering', 'Software Engineer - Data Platform', 'Software Engineer - User Productivity & RPA / IT Tools & Products', 'Software Engineer / junior mjukvaruutvecklare / C / C++ till yDesign', 'Software Engineer DBMS [f|m|d]', 'Software Engineer – Full Stack (All Levels) (Bangkok based, relocation provided)', 'Software Engineer, Machine Learning', 'Software Engineer, Threat Intelligence Services', 'Software Engineer/ML/Data Scientist(Kaggle Grandmaster)', 'Software Engineers (Europe)', 'Software/Data Engineer', 'Softwarearchitekt:in', 'Solution Arch./Systems Engineer', 'Solution Developer Sweden', 'Solution Engineer', 'Solution Engineer - Net Zero Cloud', 'Solutions Engineer - Urgent Hire', 'Spontaneous job application - Stockholm', 'Sports Data utvecklare', 'Sr. Business Analyst - Telecom', 'Sr. Data Engineer (Content Data)', 'Staff Data Scientist - Freemium Product Insights', 'Statistical Programmer', 'Storage Engineer', 'Subject Matter Expert - Software Engineering', 'Substrate Engineer (Remote)', 'Sustaining Operations Engineer', 'Swedish Speaking Mainframe Developer to Stockholm – team Financial Services', 'System Engineer', 'System Engineer (m/f)', 'System Integrator', 'System Test Engineer', 'System and Software Test Engineer (m/f) based in Stockholm', 'System developer / Data Engineer to SEB in Stockholm', 'Systems Engineer', 'Systems Engineer Specialist - Cortex', 'Systems Security Engineer', 'Systemutvecklare / Data Engineer', 'Technical Business Analyst Order Management', 'Technical Business Analyst to one of the worlds biggest shipping company', 'Test Automation Engineer', 'Test Engineer', 'Treasury Analyst', 'Utvecklare till Fondo 🤖', 'Utvecklare/systemarkitekt inom Data Warehouse och Business Intelligence', 'Vi söker efter Data Engineers!', 'Web Analyst', 'Web Analyst Digital sales', 'Yardi Developer', 'Är du vår nästa Data Engineer?', '数据统计分析和网络维护岗']\n"
     ]
    }
   ],
   "source": [
    "# print all the unique values of job_title before make similarity match \n",
    "job_title_list = df['job_title'].unique()\n",
    "print(sorted(job_title_list))"
   ]
  }
 ],
 "metadata": {
  "kernelspec": {
   "display_name": "Python 3.9.13 64-bit (windows store)",
   "language": "python",
   "name": "python3"
  },
  "language_info": {
   "codemirror_mode": {
    "name": "ipython",
    "version": 3
   },
   "file_extension": ".py",
   "mimetype": "text/x-python",
   "name": "python",
   "nbconvert_exporter": "python",
   "pygments_lexer": "ipython3",
   "version": "3.9.13"
  },
  "orig_nbformat": 4,
  "vscode": {
   "interpreter": {
    "hash": "033e51eebe5a68942c3e6259377abe06197dfd8ef37d95772ac18a584ac7f4f5"
   }
  }
 },
 "nbformat": 4,
 "nbformat_minor": 2
}
